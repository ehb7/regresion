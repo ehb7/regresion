{
  "nbformat": 4,
  "nbformat_minor": 0,
  "metadata": {
    "colab": {
      "name": "Reg simple",
      "provenance": [],
      "authorship_tag": "ABX9TyOlRZcPXajadBsR5dRYyJae",
      "include_colab_link": true
    },
    "kernelspec": {
      "name": "python3",
      "display_name": "Python 3"
    },
    "language_info": {
      "name": "python"
    }
  },
  "cells": [
    {
      "cell_type": "markdown",
      "metadata": {
        "id": "view-in-github",
        "colab_type": "text"
      },
      "source": [
        "<a href=\"https://colab.research.google.com/github/ehb7/regresion/blob/main/Reg_simple.ipynb\" target=\"_parent\"><img src=\"https://colab.research.google.com/assets/colab-badge.svg\" alt=\"Open In Colab\"/></a>"
      ]
    },
    {
      "cell_type": "code",
      "execution_count": null,
      "metadata": {
        "id": "a8_6q9lih3Sc"
      },
      "outputs": [],
      "source": [
        "# Datos\n",
        "import numpy as np\n",
        "import pandas as pd\n",
        "\n",
        "# Visualizacion\n",
        "import matplotlib.pyplot as plt\n",
        "import seaborn as sns\n",
        "import plotly.express as px\n",
        "from random import random"
      ]
    },
    {
      "cell_type": "code",
      "source": [
        "x=np.arange(0,10,0.1)\n",
        "y=0.2*x + np.random.normal(2, 3, size=(1, len(x))).flatten()*0.1+0.5\n",
        "df = pd.DataFrame(x, columns={'x'})\n",
        "df['y']=y.T"
      ],
      "metadata": {
        "id": "cnc_RvYsh5_w"
      },
      "execution_count": null,
      "outputs": []
    },
    {
      "cell_type": "code",
      "source": [
        "y"
      ],
      "metadata": {
        "colab": {
          "base_uri": "https://localhost:8080/"
        },
        "id": "owQba5joh9fr",
        "outputId": "e7ae04f7-bb23-4c01-c879-a182ecaa1c04"
      },
      "execution_count": null,
      "outputs": [
        {
          "output_type": "execute_result",
          "data": {
            "text/plain": [
              "array([1.02566918, 1.25626001, 0.28819962, 0.92311747, 0.84836015,\n",
              "       1.01981989, 1.04171228, 0.45428102, 1.06058513, 1.04899104,\n",
              "       0.81659743, 1.3155959 , 1.36743099, 1.02563524, 0.91636882,\n",
              "       0.87515355, 1.52400798, 0.97851528, 1.47487511, 1.10564502,\n",
              "       0.66535299, 1.01398443, 1.1524111 , 1.22068709, 0.82631129,\n",
              "       1.5652994 , 0.96941688, 1.01338919, 0.77667499, 1.33854799,\n",
              "       1.60184628, 1.56006986, 1.64441294, 0.99182872, 1.10033296,\n",
              "       1.45964121, 2.0020539 , 0.98720842, 1.28402082, 1.74036411,\n",
              "       1.71149716, 1.29191742, 1.70138962, 1.41632487, 1.34394421,\n",
              "       1.72525508, 1.29868183, 1.30387134, 1.25531322, 1.36855878,\n",
              "       1.83662085, 2.25711608, 2.05647902, 1.59806628, 2.21745151,\n",
              "       1.23412858, 1.92477679, 1.75014292, 1.62565648, 2.18086699,\n",
              "       1.79699061, 1.6701451 , 1.73478086, 1.15502026, 2.2535366 ,\n",
              "       1.89973304, 1.54989222, 2.10338088, 2.01764826, 1.71196832,\n",
              "       2.12181274, 1.84258634, 2.1617217 , 1.88472518, 1.79118264,\n",
              "       2.12797583, 2.07463844, 2.33822663, 1.5636056 , 1.97606482,\n",
              "       1.75876137, 2.03367913, 2.17273098, 2.43053919, 2.28003519,\n",
              "       2.52894159, 2.4309449 , 2.184137  , 2.24882794, 2.28904773,\n",
              "       2.45437828, 2.60044256, 2.24334153, 2.2317481 , 3.13625633,\n",
              "       2.75282224, 2.62339265, 2.66369654, 2.90374742, 2.42804064])"
            ]
          },
          "metadata": {},
          "execution_count": 3
        }
      ]
    },
    {
      "cell_type": "code",
      "source": [
        "x"
      ],
      "metadata": {
        "colab": {
          "base_uri": "https://localhost:8080/"
        },
        "id": "lP4tMPzUh-3S",
        "outputId": "b4ab1b64-6231-48d3-b2d2-140f016f6ddb"
      },
      "execution_count": null,
      "outputs": [
        {
          "output_type": "execute_result",
          "data": {
            "text/plain": [
              "array([0. , 0.1, 0.2, 0.3, 0.4, 0.5, 0.6, 0.7, 0.8, 0.9, 1. , 1.1, 1.2,\n",
              "       1.3, 1.4, 1.5, 1.6, 1.7, 1.8, 1.9, 2. , 2.1, 2.2, 2.3, 2.4, 2.5,\n",
              "       2.6, 2.7, 2.8, 2.9, 3. , 3.1, 3.2, 3.3, 3.4, 3.5, 3.6, 3.7, 3.8,\n",
              "       3.9, 4. , 4.1, 4.2, 4.3, 4.4, 4.5, 4.6, 4.7, 4.8, 4.9, 5. , 5.1,\n",
              "       5.2, 5.3, 5.4, 5.5, 5.6, 5.7, 5.8, 5.9, 6. , 6.1, 6.2, 6.3, 6.4,\n",
              "       6.5, 6.6, 6.7, 6.8, 6.9, 7. , 7.1, 7.2, 7.3, 7.4, 7.5, 7.6, 7.7,\n",
              "       7.8, 7.9, 8. , 8.1, 8.2, 8.3, 8.4, 8.5, 8.6, 8.7, 8.8, 8.9, 9. ,\n",
              "       9.1, 9.2, 9.3, 9.4, 9.5, 9.6, 9.7, 9.8, 9.9])"
            ]
          },
          "metadata": {},
          "execution_count": 4
        }
      ]
    },
    {
      "cell_type": "code",
      "source": [
        "plt.scatter(x,y)\n",
        "plt.xlabel('x')\n",
        "plt.ylabel('y')\n",
        "plt.show()"
      ],
      "metadata": {
        "colab": {
          "base_uri": "https://localhost:8080/",
          "height": 279
        },
        "id": "mqehoJkgiAt8",
        "outputId": "49bcf836-ba7b-40ba-ac1f-004d8345d72a"
      },
      "execution_count": null,
      "outputs": [
        {
          "output_type": "display_data",
          "data": {
            "image/png": "[encoded data removed]",
            "text/plain": [
              "<Figure size 432x288 with 1 Axes>"
            ]
          },
          "metadata": {
            "needs_background": "light"
          }
        }
      ]
    },
    {
      "cell_type": "code",
      "source": [
        "np.corrcoef(x, y)"
      ],
      "metadata": {
        "colab": {
          "base_uri": "https://localhost:8080/"
        },
        "id": "BuB8KipciCvA",
        "outputId": "20c2f6af-988e-472f-ecc9-bad6836773c9"
      },
      "execution_count": null,
      "outputs": [
        {
          "output_type": "execute_result",
          "data": {
            "text/plain": [
              "array([[1.        , 0.87167725],\n",
              "       [0.87167725, 1.        ]])"
            ]
          },
          "metadata": {},
          "execution_count": 6
        }
      ]
    },
    {
      "cell_type": "code",
      "source": [
        "beta = np.sum((x-np.mean(x)) * (y-np.mean(y)))/np.sum((x-np.mean(x))**2)\n",
        "alfa = np.mean(y) - beta*np.mean(x)\n",
        "print('Fórmula del modelo: y = '+str(np.round(alfa,2))+' + '+str(np.round(beta,2))+'x')"
      ],
      "metadata": {
        "colab": {
          "base_uri": "https://localhost:8080/"
        },
        "id": "AR8CkBTUiE8k",
        "outputId": "60eadc2d-444c-4c8b-a0d5-0181470aa0b3"
      },
      "execution_count": null,
      "outputs": [
        {
          "output_type": "stream",
          "name": "stdout",
          "text": [
            "Fórmula del modelo: y = 0.77 + 0.18x\n"
          ]
        }
      ]
    },
    {
      "cell_type": "code",
      "source": [
        "y_pred = alfa + beta*x"
      ],
      "metadata": {
        "id": "i6P_AAfjiHLq"
      },
      "execution_count": null,
      "outputs": []
    },
    {
      "cell_type": "code",
      "source": [
        "plt.figure()\n",
        "plt.scatter(x,y)\n",
        "plt.plot(x,y_pred,'r')\n",
        "plt.legend(('Regresion Simple', 'Data Original'), loc='lower right')\n",
        "plt.show()"
      ],
      "metadata": {
        "colab": {
          "base_uri": "https://localhost:8080/",
          "height": 265
        },
        "id": "XcFwflpbiJOf",
        "outputId": "8ba9b6ed-dcd1-4eb0-8d0b-10a614426b2e"
      },
      "execution_count": null,
      "outputs": [
        {
          "output_type": "display_data",
          "data": {
            "image/png": "[encoded data removed]",
            "text/plain": [
              "<Figure size 432x288 with 1 Axes>"
            ]
          },
          "metadata": {
            "needs_background": "light"
          }
        }
      ]
    }
  ]
}